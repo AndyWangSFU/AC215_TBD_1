{
 "cells": [
  {
   "cell_type": "markdown",
   "id": "lightweight-absence",
   "metadata": {},
   "source": [
    "# EDA for Fake News Detection \n",
    "AC215 Group: TBD_1\n",
    "\n",
    "In this notebook, we aim to analyze the metadata to summarize their main characteristics with several visual methods. As a background, our metadata contains a list of postings from Reddit. Each of them contains a 2-way, 3-way, and 6-way label. "
   ]
  },
  {
   "cell_type": "markdown",
   "id": "neither-puppy",
   "metadata": {},
   "source": [
    "### 1. Load Packages & Data"
   ]
  },
  {
   "cell_type": "code",
   "execution_count": 5,
   "id": "separate-cursor",
   "metadata": {},
   "outputs": [],
   "source": [
    "import pandas as pd\n",
    "import numpy as np\n",
    "import matplotlib.pyplot as plt"
   ]
  },
  {
   "cell_type": "code",
   "execution_count": 10,
   "id": "sustained-publication",
   "metadata": {},
   "outputs": [
    {
     "name": "stdout",
     "output_type": "stream",
     "text": [
      "           author                                        clean_title  \\\n",
      "0     Alexithymia  my walgreens offbrand mucinex was engraved wit...   \n",
      "1        VIDCAs17                this concerned sink with a tiny hat   \n",
      "2  prometheus1123      hackers leak emails from uae ambassador to us   \n",
      "3             NaN                           puppy taking in the view   \n",
      "4       3rikR3ith               i found a face in my sheet music too   \n",
      "\n",
      "    created_utc         domain  hasImage      id  \\\n",
      "0  1.551641e+09    i.imgur.com      True  awxhir   \n",
      "1  1.534727e+09      i.redd.it      True  98pbid   \n",
      "2  1.496511e+09  aljazeera.com      True  6f2cy5   \n",
      "3  1.471341e+09    i.imgur.com      True  4xypkv   \n",
      "4  1.525318e+09      i.redd.it      True  8gnet9   \n",
      "\n",
      "                                           image_url linked_submission_id  \\\n",
      "0  https://external-preview.redd.it/WylDbZrnbvZdB...                  NaN   \n",
      "1  https://preview.redd.it/wsfx0gp0f5h11.jpg?widt...                  NaN   \n",
      "2  https://external-preview.redd.it/6fNhdbc6K1vFA...                  NaN   \n",
      "3  https://external-preview.redd.it/HLtVNhTR6wtYt...                  NaN   \n",
      "4  https://preview.redd.it/ri7ut2wn8kv01.jpg?widt...                  NaN   \n",
      "\n",
      "   num_comments  score          subreddit  \\\n",
      "0           2.0   12.0  mildlyinteresting   \n",
      "1           2.0  119.0         pareidolia   \n",
      "2           1.0   44.0        neutralnews   \n",
      "3          26.0  250.0   photoshopbattles   \n",
      "4           2.0   13.0         pareidolia   \n",
      "\n",
      "                                               title  upvote_ratio  \\\n",
      "0  My Walgreens offbrand Mucinex was engraved wit...          0.84   \n",
      "1                This concerned sink with a tiny hat          0.99   \n",
      "2      Hackers leak emails from UAE ambassador to US          0.92   \n",
      "3                 PsBattle: Puppy taking in the view          0.95   \n",
      "4              I found a face in my sheet music too!          0.84   \n",
      "\n",
      "   2_way_label  3_way_label  6_way_label                        image_path  \n",
      "0          1.0          0.0          0.0  data/public_image_set/awxhir.jpg  \n",
      "1          0.0          2.0          2.0  data/public_image_set/98pbid.jpg  \n",
      "2          1.0          0.0          0.0  data/public_image_set/6f2cy5.jpg  \n",
      "3          1.0          0.0          0.0  data/public_image_set/4xypkv.jpg  \n",
      "4          0.0          2.0          2.0  data/public_image_set/8gnet9.jpg  \n"
     ]
    }
   ],
   "source": [
    "data = pd.read_csv('multimodal_train_cleaned.tsv', sep='\\t')\n",
    "print(data.head())"
   ]
  },
  {
   "cell_type": "markdown",
   "id": "upper-athens",
   "metadata": {},
   "source": [
    "### 2. Basic Stat\n",
    "\n",
    "To know more about the data types, missing values, and basic statistics in our metadata:"
   ]
  },
  {
   "cell_type": "code",
   "execution_count": 12,
   "id": "local-sunset",
   "metadata": {},
   "outputs": [
    {
     "name": "stdout",
     "output_type": "stream",
     "text": [
      "<class 'pandas.core.frame.DataFrame'>\n",
      "RangeIndex: 288588 entries, 0 to 288587\n",
      "Data columns (total 17 columns):\n",
      " #   Column                Non-Null Count   Dtype  \n",
      "---  ------                --------------   -----  \n",
      " 0   author                274380 non-null  object \n",
      " 1   clean_title           288588 non-null  object \n",
      " 2   created_utc           288588 non-null  float64\n",
      " 3   domain                216828 non-null  object \n",
      " 4   hasImage              288588 non-null  bool   \n",
      " 5   id                    288588 non-null  object \n",
      " 6   image_url             287730 non-null  object \n",
      " 7   linked_submission_id  71760 non-null   object \n",
      " 8   num_comments          216828 non-null  float64\n",
      " 9   score                 288588 non-null  float64\n",
      " 10  subreddit             288588 non-null  object \n",
      " 11  title                 288588 non-null  object \n",
      " 12  upvote_ratio          216828 non-null  float64\n",
      " 13  2_way_label           288588 non-null  float64\n",
      " 14  3_way_label           288588 non-null  float64\n",
      " 15  6_way_label           288588 non-null  float64\n",
      " 16  image_path            288588 non-null  object \n",
      "dtypes: bool(1), float64(7), object(9)\n",
      "memory usage: 35.5+ MB\n",
      "None\n"
     ]
    }
   ],
   "source": [
    "print(data.info())"
   ]
  },
  {
   "cell_type": "code",
   "execution_count": 13,
   "id": "dress-tension",
   "metadata": {},
   "outputs": [
    {
     "name": "stdout",
     "output_type": "stream",
     "text": [
      "        created_utc   num_comments          score   upvote_ratio  \\\n",
      "count  2.885880e+05  216828.000000  288588.000000  216828.000000   \n",
      "mean   1.481667e+09      20.987926     423.628793       0.853664   \n",
      "std    6.899682e+07     144.133202    3209.168151       0.110014   \n",
      "min    1.217364e+09       0.000000    -950.000000       0.500000   \n",
      "25%    1.423329e+09       1.000000       5.000000       0.780000   \n",
      "50%    1.492965e+09       2.000000      14.000000       0.870000   \n",
      "75%    1.551276e+09       7.000000      47.000000       0.940000   \n",
      "max    1.571819e+09   10783.000000  137179.000000       1.000000   \n",
      "\n",
      "         2_way_label   3_way_label    6_way_label  \n",
      "count  288588.000000  288588.00000  288588.000000  \n",
      "mean        0.440995       1.09139       1.705258  \n",
      "std         0.496507       0.98236       1.767785  \n",
      "min         0.000000       0.00000       0.000000  \n",
      "25%         0.000000       0.00000       0.000000  \n",
      "50%         0.000000       2.00000       2.000000  \n",
      "75%         1.000000       2.00000       4.000000  \n",
      "max         1.000000       2.00000       5.000000  \n"
     ]
    }
   ],
   "source": [
    "print(data.describe())"
   ]
  },
  {
   "cell_type": "markdown",
   "id": "coordinated-immigration",
   "metadata": {},
   "source": [
    "We can see that each post contains its title, score, upvote_ratio, etc which may contribute a lot to the prediction of fake news. Another important factor is that the 2_way_label is uniformly distributed (with mean=0.440995). This is a good thing because we can train a more robust model. For the 6_way_label, the class distribution is not as uniform."
   ]
  },
  {
   "cell_type": "markdown",
   "id": "cordless-alias",
   "metadata": {},
   "source": [
    "### 3. EDA"
   ]
  },
  {
   "cell_type": "markdown",
   "id": "bacterial-playing",
   "metadata": {},
   "source": [
    "#### 3.1. upvote_ratio\n",
    "The first thing we want to see is the distribution of upvote ratios."
   ]
  },
  {
   "cell_type": "code",
   "execution_count": 14,
   "id": "sexual-civilization",
   "metadata": {},
   "outputs": [
    {
     "data": {
      "image/png": "[encoded data removed]",
      "text/plain": [
       "<Figure size 432x288 with 1 Axes>"
      ]
     },
     "metadata": {
      "needs_background": "light"
     },
     "output_type": "display_data"
    }
   ],
   "source": [
    "data['upvote_ratio'].hist()\n",
    "plt.show()"
   ]
  },
  {
   "cell_type": "markdown",
   "id": "normal-planner",
   "metadata": {},
   "source": [
    "#### 3.2. 2/3/6_way_label "
   ]
  },
  {
   "cell_type": "code",
   "execution_count": 15,
   "id": "steady-aurora",
   "metadata": {},
   "outputs": [
    {
     "data": {
      "image/png": "[encoded data removed]",
      "text/plain": [
       "<Figure size 432x288 with 1 Axes>"
      ]
     },
     "metadata": {
      "needs_background": "light"
     },
     "output_type": "display_data"
    }
   ],
   "source": [
    "data['2_way_label'].hist()\n",
    "plt.show()"
   ]
  },
  {
   "cell_type": "code",
   "execution_count": 23,
   "id": "modified-organizer",
   "metadata": {},
   "outputs": [
    {
     "data": {
      "image/png": "[encoded data removed]",
      "text/plain": [
       "<Figure size 432x288 with 1 Axes>"
      ]
     },
     "metadata": {
      "needs_background": "light"
     },
     "output_type": "display_data"
    }
   ],
   "source": [
    "data['3_way_label'].hist()\n",
    "plt.show()"
   ]
  },
  {
   "cell_type": "code",
   "execution_count": 24,
   "id": "practical-guyana",
   "metadata": {},
   "outputs": [
    {
     "data": {
      "image/png": "[encoded data removed]",
      "text/plain": [
       "<Figure size 432x288 with 1 Axes>"
      ]
     },
     "metadata": {
      "needs_background": "light"
     },
     "output_type": "display_data"
    }
   ],
   "source": [
    "data['6_way_label'].hist()\n",
    "plt.show()"
   ]
  },
  {
   "cell_type": "markdown",
   "id": "patient-snowboard",
   "metadata": {},
   "source": [
    "For 6-way labels, they are not uniformly distributed but still each sub-category contains a good amount of news inside."
   ]
  },
  {
   "cell_type": "markdown",
   "id": "hairy-cosmetic",
   "metadata": {},
   "source": [
    "#### 3.3 Subreddit counts \n"
   ]
  },
  {
   "cell_type": "code",
   "execution_count": 22,
   "id": "compliant-origin",
   "metadata": {},
   "outputs": [
    {
     "data": {
      "image/png": "[encoded data removed]",
      "text/plain": [
       "<Figure size 432x288 with 1 Axes>"
      ]
     },
     "metadata": {
      "needs_background": "light"
     },
     "output_type": "display_data"
    }
   ],
   "source": [
    "data['subreddit'].value_counts().plot(kind='bar')\n",
    "plt.show()"
   ]
  },
  {
   "cell_type": "markdown",
   "id": "generous-belfast",
   "metadata": {},
   "source": [
    "We can see that a large proportion of reddits fall into fake subreddits. "
   ]
  },
  {
   "cell_type": "code",
   "execution_count": null,
   "id": "motivated-summit",
   "metadata": {},
   "outputs": [],
   "source": []
  },
  {
   "cell_type": "markdown",
   "id": "understanding-architecture",
   "metadata": {},
   "source": [
    "#### 4. Correlation plots and heatmap"
   ]
  },
  {
   "cell_type": "code",
   "execution_count": null,
   "id": "modular-reproduction",
   "metadata": {},
   "outputs": [],
   "source": [
    "import seaborn as sns"
   ]
  },
  {
   "cell_type": "code",
   "execution_count": null,
   "id": "british-burden",
   "metadata": {},
   "outputs": [],
   "source": [
    "sns.pairplot(data[['2_way_label', '3_way_label', '6_way_label']])\n",
    "plt.show()"
   ]
  },
  {
   "cell_type": "code",
   "execution_count": null,
   "id": "satisfied-chuck",
   "metadata": {},
   "outputs": [],
   "source": []
  },
  {
   "cell_type": "code",
   "execution_count": null,
   "id": "precise-provider",
   "metadata": {},
   "outputs": [],
   "source": []
  },
  {
   "cell_type": "code",
   "execution_count": null,
   "id": "close-bacon",
   "metadata": {},
   "outputs": [],
   "source": []
  }
 ],
 "metadata": {
  "kernelspec": {
   "display_name": "Python 3",
   "language": "python",
   "name": "python3"
  },
  "language_info": {
   "codemirror_mode": {
    "name": "ipython",
    "version": 3
   },
   "file_extension": ".py",
   "mimetype": "text/x-python",
   "name": "python",
   "nbconvert_exporter": "python",
   "pygments_lexer": "ipython3",
   "version": "3.8.0"
  }
 },
 "nbformat": 4,
 "nbformat_minor": 5
}
